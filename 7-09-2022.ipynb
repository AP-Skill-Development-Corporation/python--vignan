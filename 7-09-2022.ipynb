{
 "cells": [
  {
   "cell_type": "markdown",
   "metadata": {},
   "source": [
    "### File Handling\n",
    "* A file is collection of records/data\n",
    "* Types if file formats: word,pdf,excel,csv,ppt\n",
    "* python file handling :create,append,Read,write,close\n",
    "    * Create a new  file\n",
    "    * Write the data\n",
    "    * Read data from file\n",
    "    * Append data to a file\n",
    "    "
   ]
  },
  {
   "cell_type": "markdown",
   "metadata": {},
   "source": [
    "### Mode of Operations\n",
    "\n",
    "* 'r'  - Read mode, which is used when the file is only being read\n",
    "* 'w'  - Write mode,which is used to edit,write new data(overwrites the existing data)\n",
    "* 'a'  - used to add data to already existing file data\n",
    "* 'r+' - read&write ,used to handle both actions\n"
   ]
  },
  {
   "cell_type": "markdown",
   "metadata": {},
   "source": [
    "### In-Built functions\n",
    "* Open: open(path,mode)\n",
    "* close: file_name.close()"
   ]
  },
  {
   "cell_type": "code",
   "execution_count": 51,
   "metadata": {},
   "outputs": [],
   "source": [
    "# Creating a file and writing data into a file\n",
    "\n",
    "file1=open(\"myfile.txt\",'w')  #opening a file in write mode\n",
    "file1.write(\"I am learning python programming\")\n",
    "file1.close()"
   ]
  },
  {
   "cell_type": "code",
   "execution_count": 52,
   "metadata": {},
   "outputs": [],
   "source": [
    "# write- overwrites the existing file data\n",
    "f1=open(\"myfile.txt\",'w')\n",
    "f1.write(\"hello world\")\n",
    "f1.close()"
   ]
  },
  {
   "cell_type": "code",
   "execution_count": 53,
   "metadata": {},
   "outputs": [
    {
     "name": "stdout",
     "output_type": "stream",
     "text": [
      "hello world\n"
     ]
    }
   ],
   "source": [
    "# read() - read the file data\n",
    "\n",
    "f=open(\"myfile.txt\",'r')\n",
    "data=f.read()\n",
    "print(data)\n",
    "f.close()"
   ]
  },
  {
   "cell_type": "code",
   "execution_count": 54,
   "metadata": {},
   "outputs": [],
   "source": [
    "# append() - add new data to previous data\n",
    "\n",
    "f=open(\"myfile.txt\",'a')\n",
    "f.write(\"\\n Good afternoon \\n Happy learning\")\n",
    "f.close()"
   ]
  },
  {
   "cell_type": "code",
   "execution_count": 55,
   "metadata": {},
   "outputs": [
    {
     "data": {
      "text/plain": [
       "'hello world\\n Good afternoon \\n Happy learning'"
      ]
     },
     "execution_count": 55,
     "metadata": {},
     "output_type": "execute_result"
    }
   ],
   "source": [
    "f=open(\"myfile.txt\",'r')\n",
    "f.read()"
   ]
  },
  {
   "cell_type": "code",
   "execution_count": 56,
   "metadata": {},
   "outputs": [],
   "source": [
    "# read(), readline(),readlines()\n",
    "\n",
    "# read - read all data\n",
    "# readline- return a line from a file\n",
    "# readlines - returns all file data lines in list format "
   ]
  },
  {
   "cell_type": "code",
   "execution_count": 57,
   "metadata": {},
   "outputs": [
    {
     "data": {
      "text/plain": [
       "'hello world\\n'"
      ]
     },
     "execution_count": 57,
     "metadata": {},
     "output_type": "execute_result"
    }
   ],
   "source": [
    "f=open(\"myfile.txt\",'r')\n",
    "f.readline()"
   ]
  },
  {
   "cell_type": "code",
   "execution_count": 58,
   "metadata": {},
   "outputs": [
    {
     "data": {
      "text/plain": [
       "['hello world\\n', ' Good afternoon \\n', ' Happy learning']"
      ]
     },
     "execution_count": 58,
     "metadata": {},
     "output_type": "execute_result"
    }
   ],
   "source": [
    "f=open(\"myfile.txt\",\"r\")\n",
    "f.readlines()"
   ]
  },
  {
   "cell_type": "code",
   "execution_count": 59,
   "metadata": {},
   "outputs": [
    {
     "name": "stdout",
     "output_type": "stream",
     "text": [
      "hello world\n",
      "\n",
      " Good afternoon \n",
      "\n",
      " Happy learning\n",
      "number of lines 3\n"
     ]
    }
   ],
   "source": [
    "# Read file data line by line \n",
    "# no of lines\n",
    "\n",
    "f=open(\"myfile.txt\",'r')\n",
    "l=f.readlines()\n",
    "nol=len(l)\n",
    "for i in l:\n",
    "    print(i)\n",
    "print(\"number of lines\",nol)"
   ]
  },
  {
   "cell_type": "code",
   "execution_count": 60,
   "metadata": {},
   "outputs": [
    {
     "name": "stdout",
     "output_type": "stream",
     "text": [
      "hello world\n",
      "\n",
      "h\n",
      "e\n",
      "l\n",
      "l\n",
      "o\n",
      " \n",
      "w\n",
      "o\n",
      "r\n",
      "l\n",
      "d\n",
      "\n",
      "\n",
      "no of characters:  12\n"
     ]
    }
   ],
   "source": [
    "# read file data character by character\n",
    "# no of characters\n",
    "\n",
    "f=open(\"myfile.txt\",'r')\n",
    "data=f.readline()\n",
    "noc=len(data)\n",
    "print(data)\n",
    "for ch in data:\n",
    "    print(ch)\n",
    "print(\"no of characters: \",noc)"
   ]
  },
  {
   "cell_type": "code",
   "execution_count": 49,
   "metadata": {},
   "outputs": [
    {
     "name": "stdout",
     "output_type": "stream",
     "text": [
      "hello world\n",
      " Good afternoon \n",
      " Happy learning\n"
     ]
    }
   ],
   "source": [
    "# r+ - read and write()\n",
    "\n",
    "f=open(\"myfile.txt\",'r+')\n",
    "print(f.read())\n",
    "f.write(\"\\n have a nice day\")\n",
    "#print(f.read())\n",
    "f.close()"
   ]
  },
  {
   "cell_type": "code",
   "execution_count": 62,
   "metadata": {},
   "outputs": [
    {
     "name": "stdout",
     "output_type": "stream",
     "text": [
      "hello world\n",
      " Good afternoon \n",
      " Happy learning\n",
      "['hello', 'world', 'Good', 'afternoon', 'Happy', 'learning']\n",
      "no of words:  6\n"
     ]
    }
   ],
   "source": [
    "# no of words\n",
    "\n",
    "f=open(\"myfile.txt\",'r')\n",
    "data=f.read()\n",
    "print(data)\n",
    "words=data.split()\n",
    "print(words)\n",
    "nw=len(words)\n",
    "print(\"no of words: \",nw)"
   ]
  },
  {
   "cell_type": "code",
   "execution_count": 63,
   "metadata": {},
   "outputs": [],
   "source": [
    "# add 60 students\n",
    "\n",
    "f1=open(\"student.txt\",'w')\n",
    "for i in range(1,61):\n",
    "    f1.write(\"student %f \\n\" %(i))\n",
    "f1.close()"
   ]
  },
  {
   "cell_type": "markdown",
   "metadata": {},
   "source": [
    "### methods in file handling\n",
    "* tell() - returns current locatio of file pointer\n",
    "* seek() - we set a point at a specified location\n",
    "* seek(offset,from_what)\n",
    "* offset-no of positions to move forward\n",
    "* from_what - specifies pointer reference"
   ]
  },
  {
   "cell_type": "code",
   "execution_count": 65,
   "metadata": {},
   "outputs": [
    {
     "name": "stdout",
     "output_type": "stream",
     "text": [
      "0\n",
      "hello world\n",
      "\n",
      "13\n"
     ]
    }
   ],
   "source": [
    "f=open(\"myfile.txt\",'r')\n",
    "print(f.tell())\n",
    "print(f.readline())\n",
    "print(f.tell())"
   ]
  },
  {
   "cell_type": "code",
   "execution_count": 67,
   "metadata": {},
   "outputs": [
    {
     "data": {
      "text/plain": [
       "7"
      ]
     },
     "execution_count": 67,
     "metadata": {},
     "output_type": "execute_result"
    }
   ],
   "source": [
    "f=open(\"myfile.txt\",'r')\n",
    "f.seek(7)"
   ]
  },
  {
   "cell_type": "code",
   "execution_count": 70,
   "metadata": {},
   "outputs": [
    {
     "name": "stdout",
     "output_type": "stream",
     "text": [
      "iam learning1@python\n",
      "tha@n$\n",
      "\n",
      "count of spl chars:  6\n"
     ]
    }
   ],
   "source": [
    "# special characters count from a file\n",
    "\n",
    "f=open(\"sample.txt\",'r')\n",
    "data=f.read()\n",
    "print(data)\n",
    "count=0\n",
    "for i in data:\n",
    "    if i.isalnum()==False and i!='  ':\n",
    "        count+=1\n",
    "        \n",
    "print(\"count of spl chars: \",count)"
   ]
  },
  {
   "cell_type": "markdown",
   "metadata": {},
   "source": [
    "### comprehension\n",
    "* we can create a new sequence using a given python sequence\n",
    "* we can reduce the lines of code"
   ]
  },
  {
   "cell_type": "markdown",
   "metadata": {},
   "source": [
    "### types\n",
    "\n",
    "* list comprehension\n",
    "* dictionary comprehension\n",
    "* set comprehension"
   ]
  },
  {
   "cell_type": "code",
   "execution_count": 71,
   "metadata": {},
   "outputs": [
    {
     "name": "stdout",
     "output_type": "stream",
     "text": [
      "1 2 3 4 5 6 7 8 9 10 "
     ]
    }
   ],
   "source": [
    "for i in range(1,11):\n",
    "    print(i,end=\" \") "
   ]
  },
  {
   "cell_type": "code",
   "execution_count": 72,
   "metadata": {},
   "outputs": [],
   "source": [
    "### list comprehension\n",
    "# syntx: [output-variable loop conditions]"
   ]
  },
  {
   "cell_type": "code",
   "execution_count": 73,
   "metadata": {},
   "outputs": [
    {
     "data": {
      "text/plain": [
       "[1, 2, 3, 4, 5, 6, 7, 8, 9, 10]"
      ]
     },
     "execution_count": 73,
     "metadata": {},
     "output_type": "execute_result"
    }
   ],
   "source": [
    "[i for i in range(1,11)]"
   ]
  },
  {
   "cell_type": "code",
   "execution_count": 74,
   "metadata": {},
   "outputs": [
    {
     "data": {
      "text/plain": [
       "['h', 'e', 'l', 'l', 'o']"
      ]
     },
     "execution_count": 74,
     "metadata": {},
     "output_type": "execute_result"
    }
   ],
   "source": [
    "[i for i in \"hello\"]"
   ]
  },
  {
   "cell_type": "code",
   "execution_count": 75,
   "metadata": {},
   "outputs": [
    {
     "name": "stdout",
     "output_type": "stream",
     "text": [
      "h e l l o "
     ]
    }
   ],
   "source": [
    "for i in \"hello\":\n",
    "    print(i,end=\" \")"
   ]
  },
  {
   "cell_type": "code",
   "execution_count": 78,
   "metadata": {},
   "outputs": [
    {
     "name": "stdout",
     "output_type": "stream",
     "text": [
      "[2, 4, 6, 8, 10, 12, 14, 16, 18, 20, 22, 24, 26, 28, 30, 32, 34, 36, 38, 40, 42, 44, 46, 48, 50]\n"
     ]
    }
   ],
   "source": [
    "even=[i for i in range(1,51) if i%2==0]\n",
    "print(even)"
   ]
  },
  {
   "cell_type": "code",
   "execution_count": 79,
   "metadata": {},
   "outputs": [
    {
     "data": {
      "text/plain": [
       "{1: 1, 2: 4, 3: 9, 4: 16, 5: 25}"
      ]
     },
     "execution_count": 79,
     "metadata": {},
     "output_type": "execute_result"
    }
   ],
   "source": [
    "# dictionary comprehension\n",
    "#{ 1:1,2:4,3:9,4:16,5:25}\n",
    "\n",
    "d=dict()\n",
    "for i in range(1,6):\n",
    "    d[i]=i*i\n",
    "d"
   ]
  },
  {
   "cell_type": "code",
   "execution_count": 80,
   "metadata": {},
   "outputs": [
    {
     "data": {
      "text/plain": [
       "{1: 1, 2: 4, 3: 9, 4: 16, 5: 25}"
      ]
     },
     "execution_count": 80,
     "metadata": {},
     "output_type": "execute_result"
    }
   ],
   "source": [
    "d={i:i*i for i in range(1,6)}\n",
    "d"
   ]
  },
  {
   "cell_type": "code",
   "execution_count": 81,
   "metadata": {},
   "outputs": [
    {
     "data": {
      "text/plain": [
       "{1, 3, 5, 7}"
      ]
     },
     "execution_count": 81,
     "metadata": {},
     "output_type": "execute_result"
    }
   ],
   "source": [
    "# set comprehension\n",
    "\n",
    "l=[5,6,7,4,3,5,6,8,1]\n",
    "s=set()\n",
    "for i in l:\n",
    "    if i%2!=0:\n",
    "        s.add(i)\n",
    "s\n",
    "    "
   ]
  },
  {
   "cell_type": "code",
   "execution_count": 82,
   "metadata": {},
   "outputs": [
    {
     "data": {
      "text/plain": [
       "{1, 3, 5, 7}"
      ]
     },
     "execution_count": 82,
     "metadata": {},
     "output_type": "execute_result"
    }
   ],
   "source": [
    "s={i for i in l if i%2!=0}\n",
    "s"
   ]
  },
  {
   "cell_type": "markdown",
   "metadata": {},
   "source": [
    "### Iterators and generators\n",
    "### iterator\n",
    "    * simply a python object that can be iterated upon\n",
    "    * iter(),next()"
   ]
  },
  {
   "cell_type": "code",
   "execution_count": 83,
   "metadata": {},
   "outputs": [
    {
     "name": "stdout",
     "output_type": "stream",
     "text": [
      "1 2 3 4 5 6 7 8 9 10 "
     ]
    }
   ],
   "source": [
    "\n",
    "\n",
    "for i in range(1,11):\n",
    "    print(i,end=\" \")"
   ]
  },
  {
   "cell_type": "code",
   "execution_count": 84,
   "metadata": {},
   "outputs": [
    {
     "name": "stdout",
     "output_type": "stream",
     "text": [
      "[1, 2, 3, 4, 5, 6, 7, 8, 9, 10] "
     ]
    },
    {
     "data": {
      "text/plain": [
       "<list_iterator at 0x700a3c8>"
      ]
     },
     "execution_count": 84,
     "metadata": {},
     "output_type": "execute_result"
    }
   ],
   "source": [
    "l=[i for i in range(1,11)]\n",
    "print(l,end=\" \")\n",
    "l_iter=iter(l)   #creating iterator object\n",
    "l_iter"
   ]
  },
  {
   "cell_type": "code",
   "execution_count": 85,
   "metadata": {},
   "outputs": [
    {
     "data": {
      "text/plain": [
       "1"
      ]
     },
     "execution_count": 85,
     "metadata": {},
     "output_type": "execute_result"
    }
   ],
   "source": [
    "next(l_iter)"
   ]
  },
  {
   "cell_type": "code",
   "execution_count": 86,
   "metadata": {},
   "outputs": [
    {
     "data": {
      "text/plain": [
       "2"
      ]
     },
     "execution_count": 86,
     "metadata": {},
     "output_type": "execute_result"
    }
   ],
   "source": [
    "next(l_iter)"
   ]
  },
  {
   "cell_type": "code",
   "execution_count": 87,
   "metadata": {},
   "outputs": [
    {
     "data": {
      "text/plain": [
       "[3, 4, 5, 6, 7, 8, 9, 10]"
      ]
     },
     "execution_count": 87,
     "metadata": {},
     "output_type": "execute_result"
    }
   ],
   "source": [
    "list(l_iter)"
   ]
  },
  {
   "cell_type": "markdown",
   "metadata": {},
   "source": [
    "### Generator\n",
    "\n",
    "* any function which contains atleast 1 yield is considered as generator\n",
    "* in place of return ,will use yield\n",
    "* easy to implement, memory efficient"
   ]
  },
  {
   "cell_type": "code",
   "execution_count": 88,
   "metadata": {},
   "outputs": [
    {
     "name": "stdout",
     "output_type": "stream",
     "text": [
      "1\n",
      "2\n"
     ]
    }
   ],
   "source": [
    "def sample():\n",
    "    n=1\n",
    "    yield n\n",
    "    n+=1\n",
    "    yield n\n",
    "\n",
    "for i in sample():\n",
    "    print(i)\n",
    "    \n"
   ]
  },
  {
   "cell_type": "code",
   "execution_count": 90,
   "metadata": {},
   "outputs": [
    {
     "name": "stdout",
     "output_type": "stream",
     "text": [
      "enter a number: 6\n"
     ]
    },
    {
     "data": {
      "text/plain": [
       "36"
      ]
     },
     "execution_count": 90,
     "metadata": {},
     "output_type": "execute_result"
    }
   ],
   "source": [
    "# square of a given number\n",
    "\n",
    "n=int(input(\"enter a number: \"))\n",
    "def gen(n):\n",
    "    while True:\n",
    "        n**=2\n",
    "        yield n\n",
    "        \n",
    "g=gen(n)\n",
    "next(g)"
   ]
  },
  {
   "cell_type": "code",
   "execution_count": null,
   "metadata": {},
   "outputs": [],
   "source": []
  }
 ],
 "metadata": {
  "kernelspec": {
   "display_name": "Python 3",
   "language": "python",
   "name": "python3"
  },
  "language_info": {
   "codemirror_mode": {
    "name": "ipython",
    "version": 3
   },
   "file_extension": ".py",
   "mimetype": "text/x-python",
   "name": "python",
   "nbconvert_exporter": "python",
   "pygments_lexer": "ipython3",
   "version": "3.7.6"
  }
 },
 "nbformat": 4,
 "nbformat_minor": 4
}
